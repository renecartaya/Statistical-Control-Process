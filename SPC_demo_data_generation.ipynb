{
 "cells": [
  {
   "cell_type": "code",
   "execution_count": 2,
   "id": "74b7c6e9-4076-442a-91e6-d5b70e6b4668",
   "metadata": {},
   "outputs": [],
   "source": [
    "# Import required libraries\n",
    "import numpy as np\n",
    "import pandas as pd\n",
    "import matplotlib.pyplot as plt\n",
    "import statistics"
   ]
  },
  {
   "cell_type": "code",
   "execution_count": 5,
   "id": "0314df33-53b6-4b9e-a99f-1543519fe63a",
   "metadata": {},
   "outputs": [],
   "source": [
    "#######################################################################################################################################\n",
    "#\n",
    "#                                                mR dataset generation\n",
    "#\n",
    "#######################################################################################################################################\n",
    "\n",
    "\n",
    "# Set random seed\n",
    "np.random.seed(44)\n",
    "\n",
    "# Create dummy data\n",
    "x = pd.Series(np.random.normal(loc=10, scale=2, size=10))\n",
    "\n",
    "# Define list variable for moving ranges\n",
    "MR = [np.nan]\n",
    "\n",
    "# Get and append moving ranges\n",
    "i = 1\n",
    "for data in range(1, len(x)):\n",
    "    MR.append(abs(x[i] - x[i-1]))\n",
    "    i += 1\n",
    "\n",
    "# Convert list to pandas Series objects    \n",
    "MR = pd.Series(MR)\n",
    "\n",
    "# Concatenate mR Series with and rename columns\n",
    "data = pd.concat([x,MR], axis=1).rename(columns={0:\"x\", 1:\"mR\"})\n",
    "\n"
   ]
  },
  {
   "cell_type": "code",
   "execution_count": 6,
   "id": "d67a61ba-2a38-4cf3-b630-a764680c01bd",
   "metadata": {},
   "outputs": [
    {
     "data": {
      "text/plain": [
       "0     8.498771\n",
       "1    12.632715\n",
       "2    12.492280\n",
       "3     6.790169\n",
       "4     7.063713\n",
       "5     6.569859\n",
       "6    13.717567\n",
       "7    10.175176\n",
       "8     9.895356\n",
       "9    11.110943\n",
       "dtype: float64"
      ]
     },
     "execution_count": 6,
     "metadata": {},
     "output_type": "execute_result"
    }
   ],
   "source": [
    "x"
   ]
  },
  {
   "cell_type": "code",
   "execution_count": 7,
   "id": "793ccc5c-a16b-4007-819a-af430f613da2",
   "metadata": {},
   "outputs": [
    {
     "data": {
      "text/plain": [
       "0         NaN\n",
       "1    4.133944\n",
       "2    0.140435\n",
       "3    5.702112\n",
       "4    0.273544\n",
       "5    0.493854\n",
       "6    7.147708\n",
       "7    3.542391\n",
       "8    0.279820\n",
       "9    1.215588\n",
       "dtype: float64"
      ]
     },
     "execution_count": 7,
     "metadata": {},
     "output_type": "execute_result"
    }
   ],
   "source": [
    "MR"
   ]
  },
  {
   "cell_type": "code",
   "execution_count": 10,
   "id": "017be147-b222-4c55-a642-76173ffa90dd",
   "metadata": {},
   "outputs": [
    {
     "data": {
      "text/html": [
       "<div>\n",
       "<style scoped>\n",
       "    .dataframe tbody tr th:only-of-type {\n",
       "        vertical-align: middle;\n",
       "    }\n",
       "\n",
       "    .dataframe tbody tr th {\n",
       "        vertical-align: top;\n",
       "    }\n",
       "\n",
       "    .dataframe thead th {\n",
       "        text-align: right;\n",
       "    }\n",
       "</style>\n",
       "<table border=\"1\" class=\"dataframe\">\n",
       "  <thead>\n",
       "    <tr style=\"text-align: right;\">\n",
       "      <th></th>\n",
       "      <th>x</th>\n",
       "      <th>mR</th>\n",
       "    </tr>\n",
       "  </thead>\n",
       "  <tbody>\n",
       "    <tr>\n",
       "      <th>0</th>\n",
       "      <td>8.498771</td>\n",
       "      <td>NaN</td>\n",
       "    </tr>\n",
       "    <tr>\n",
       "      <th>1</th>\n",
       "      <td>12.632715</td>\n",
       "      <td>4.133944</td>\n",
       "    </tr>\n",
       "    <tr>\n",
       "      <th>2</th>\n",
       "      <td>12.492280</td>\n",
       "      <td>0.140435</td>\n",
       "    </tr>\n",
       "    <tr>\n",
       "      <th>3</th>\n",
       "      <td>6.790169</td>\n",
       "      <td>5.702112</td>\n",
       "    </tr>\n",
       "    <tr>\n",
       "      <th>4</th>\n",
       "      <td>7.063713</td>\n",
       "      <td>0.273544</td>\n",
       "    </tr>\n",
       "    <tr>\n",
       "      <th>5</th>\n",
       "      <td>6.569859</td>\n",
       "      <td>0.493854</td>\n",
       "    </tr>\n",
       "    <tr>\n",
       "      <th>6</th>\n",
       "      <td>13.717567</td>\n",
       "      <td>7.147708</td>\n",
       "    </tr>\n",
       "    <tr>\n",
       "      <th>7</th>\n",
       "      <td>10.175176</td>\n",
       "      <td>3.542391</td>\n",
       "    </tr>\n",
       "    <tr>\n",
       "      <th>8</th>\n",
       "      <td>9.895356</td>\n",
       "      <td>0.279820</td>\n",
       "    </tr>\n",
       "    <tr>\n",
       "      <th>9</th>\n",
       "      <td>11.110943</td>\n",
       "      <td>1.215588</td>\n",
       "    </tr>\n",
       "  </tbody>\n",
       "</table>\n",
       "</div>"
      ],
      "text/plain": [
       "           x        mR\n",
       "0   8.498771       NaN\n",
       "1  12.632715  4.133944\n",
       "2  12.492280  0.140435\n",
       "3   6.790169  5.702112\n",
       "4   7.063713  0.273544\n",
       "5   6.569859  0.493854\n",
       "6  13.717567  7.147708\n",
       "7  10.175176  3.542391\n",
       "8   9.895356  0.279820\n",
       "9  11.110943  1.215588"
      ]
     },
     "execution_count": 10,
     "metadata": {},
     "output_type": "execute_result"
    }
   ],
   "source": [
    "data"
   ]
  },
  {
   "cell_type": "code",
   "execution_count": 17,
   "id": "646a0bc1-9eac-414e-a231-1da54702ae62",
   "metadata": {},
   "outputs": [],
   "source": [
    "\n",
    "Directorio_out = 'C:/Users/renea/Desktop/Datasets/SPC_dataset/'\n",
    "Datasource = 'SPC_demo_data_mR.txt'\n",
    "source = Directorio_out + Datasource\n",
    "\n",
    "np.savetxt(source, data, fmt = \"%.1f\", delimiter='\\t\\t', \n",
    "           newline='\\n', header='mR Dataset \\n\\nx             mR\\n\\n', footer='\\n\\nAuthor: René Cartaya')"
   ]
  },
  {
   "cell_type": "code",
   "execution_count": null,
   "id": "27057c8b-d0cf-4786-876b-a0b3729f8151",
   "metadata": {},
   "outputs": [],
   "source": []
  }
 ],
 "metadata": {
  "kernelspec": {
   "display_name": "Python 3 (ipykernel)",
   "language": "python",
   "name": "python3"
  },
  "language_info": {
   "codemirror_mode": {
    "name": "ipython",
    "version": 3
   },
   "file_extension": ".py",
   "mimetype": "text/x-python",
   "name": "python",
   "nbconvert_exporter": "python",
   "pygments_lexer": "ipython3",
   "version": "3.9.7"
  }
 },
 "nbformat": 4,
 "nbformat_minor": 5
}
